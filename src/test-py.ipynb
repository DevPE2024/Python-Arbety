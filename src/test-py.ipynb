{
 "cells": [
  {
   "attachments": {},
   "cell_type": "markdown",
   "metadata": {},
   "source": [
    "### 😆 Extraindo informações do site Arbety para pegar o número da sorte 😃 mas ate o momento so estar funcionando com o edge 🙂"
   ]
  },
  {
   "cell_type": "code",
   "execution_count": 1,
   "metadata": {},
   "outputs": [
    {
     "name": "stdout",
     "output_type": "stream",
     "text": [
      "Tag: div, Conteúdo: \n"
     ]
    }
   ],
   "source": [
    "import time\n",
    "from selenium.webdriver.edge.service import Service\n",
    "from selenium.webdriver.edge.options import Options\n",
    "from selenium.webdriver.common.by import By\n",
    "from selenium.webdriver.support.ui import WebDriverWait\n",
    "from selenium.webdriver.support import expected_conditions as EC\n",
    "from selenium.webdriver import Edge\n",
    "from webdriver_manager.microsoft import EdgeChromiumDriverManager\n",
    "from bs4 import BeautifulSoup\n",
    "\n",
    "# Configura as opções do Edge\n",
    "options = Options()\n",
    "options.add_argument(\"--headless\")  # Executa o Edge em modo headless\n",
    "\n",
    "# Configura o serviço do EdgeDriver\n",
    "service = Service(EdgeChromiumDriverManager().install())\n",
    "\n",
    "# Cria uma nova instância do Microsoft Edge\n",
    "driver = Edge(service=service, options=options)\n",
    "\n",
    "driver.implicitly_wait(10)  # espera até 10 segundos antes de lançar uma NoSuchElementException\n",
    "\n",
    "url = \"https://www.arbety.com/games/double\"\n",
    "driver.get(url)\n",
    "\n",
    "# Armazena o código HTML atual da página\n",
    "html_antigo = driver.page_source\n",
    "\n",
    "try:\n",
    "    while True:\n",
    "        try:\n",
    "            # Verifica se os elementos estão presentes na página\n",
    "            elemento_pai = WebDriverWait(driver, 10).until(\n",
    "                EC.presence_of_element_located((By.XPATH, \"//div[contains(@class, 'items')]\"))\n",
    "            )\n",
    "\n",
    "            # Executa o código para pegar os elementos filhos\n",
    "            elementos_filhos = elemento_pai.find_elements(By.XPATH, \"./*\")\n",
    "            for elemento in elementos_filhos:\n",
    "                soup = BeautifulSoup(elemento.get_attribute('innerHTML'), 'html.parser')\n",
    "                div = soup.find('div')\n",
    "                if div:\n",
    "                    cor = div.get('class')[1] if len(div.get('class')) > 1 else None\n",
    "                    aria_label = div.get('aria-label')\n",
    "                    numero = div.text\n",
    "                    if aria_label:\n",
    "                        data, hora = aria_label.split(\", \")\n",
    "                    else:\n",
    "                        data, hora = None, None\n",
    "                    print(f\"Cor: {cor}, Data: {data}, Hora: {hora}, Número: {numero}\")\n",
    "\n",
    "            # Armazena o código HTML atual da página\n",
    "            html_atual = driver.page_source\n",
    "\n",
    "            # Verifica se houve mudanças na página\n",
    "            if html_atual != html_antigo:\n",
    "                html_antigo = html_atual\n",
    "                driver.refresh()\n",
    "\n",
    "            # Espera por 30 segundos antes de verificar novamente\n",
    "            time.sleep(20)\n",
    "\n",
    "        except Exception as e:\n",
    "            print(e)\n",
    "            driver.quit()\n",
    "            break\n",
    "\n",
    "except KeyboardInterrupt:\n",
    "    print(\"Programa interrompido pelo usuário\")\n",
    "    driver.quit()\n"
   ]
  }
 ],
 "metadata": {
  "kernelspec": {
   "display_name": "Python 3",
   "language": "python",
   "name": "python3"
  },
  "language_info": {
   "codemirror_mode": {
    "name": "ipython",
    "version": 3
   },
   "file_extension": ".py",
   "mimetype": "text/x-python",
   "name": "python",
   "nbconvert_exporter": "python",
   "pygments_lexer": "ipython3",
   "version": "3.9.10"
  },
  "orig_nbformat": 4
 },
 "nbformat": 4,
 "nbformat_minor": 2
}

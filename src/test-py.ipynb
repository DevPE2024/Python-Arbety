{
 "cells": [
  {
   "attachments": {},
   "cell_type": "markdown",
   "metadata": {},
   "source": [
    "# Extraindo informações do site Arbety para pegar o número da sorte "
   ]
  },
  {
   "cell_type": "code",
   "execution_count": 3,
   "metadata": {},
   "outputs": [
    {
     "ename": "ImportError",
     "evalue": "cannot import name 'async_playwright' from 'playwright' (c:\\Users\\mpereirn\\AppData\\Local\\Programs\\Python\\Python311\\Lib\\site-packages\\playwright\\__init__.py)",
     "output_type": "error",
     "traceback": [
      "\u001b[1;31m---------------------------------------------------------------------------\u001b[0m",
      "\u001b[1;31mImportError\u001b[0m                               Traceback (most recent call last)",
      "Cell \u001b[1;32mIn[3], line 2\u001b[0m\n\u001b[0;32m      1\u001b[0m \u001b[39mimport\u001b[39;00m \u001b[39masyncio\u001b[39;00m\n\u001b[1;32m----> 2\u001b[0m \u001b[39mfrom\u001b[39;00m \u001b[39mplaywright\u001b[39;00m \u001b[39mimport\u001b[39;00m async_playwright\n\u001b[0;32m      4\u001b[0m \u001b[39masync\u001b[39;00m \u001b[39mdef\u001b[39;00m \u001b[39mrun\u001b[39m(playwright):\n\u001b[0;32m      5\u001b[0m     browser \u001b[39m=\u001b[39m \u001b[39mawait\u001b[39;00m playwright\u001b[39m.\u001b[39mchromium\u001b[39m.\u001b[39mlaunch()\n",
      "\u001b[1;31mImportError\u001b[0m: cannot import name 'async_playwright' from 'playwright' (c:\\Users\\mpereirn\\AppData\\Local\\Programs\\Python\\Python311\\Lib\\site-packages\\playwright\\__init__.py)"
     ]
    }
   ],
   "source": [
    "import asyncio\n",
    "from playwright import async_playwright\n",
    "\n",
    "async def run(playwright):\n",
    "    browser = await playwright.chromium.launch()\n",
    "    page = await browser.new_page()\n",
    "\n",
    "    # Navegue para o site\n",
    "    await page.goto('https://www.arbety.com/games/double')\n",
    "\n",
    "    while True:\n",
    "        # Localize o elemento pelo XPath completo\n",
    "        element_handle = await page.wait_for_selector('//*[@id=\"root\"]/div[7]/div/div[2]/main/div[1]/div/div[1]/div/div[2]/div/div[2]/div/div')\n",
    "\n",
    "        # Extraia o texto do elemento\n",
    "        element_text = await page.evaluate('(element) => element.textContent', element_handle)\n",
    "\n",
    "        # Divida o texto em partes usando a função split()\n",
    "        parts = element_text.split('\">')\n",
    "\n",
    "        # Obtenha os valores desejados das partes extraídas\n",
    "        hora = parts[1]\n",
    "        numero = parts[2]\n",
    "        cor = parts[3].split('\"')[0]\n",
    "        data = parts[3].split('aria-label=\"')[1].split(',')[0]\n",
    "\n",
    "        # Imprima os valores extraídos\n",
    "        print(\"Hora:\", hora)\n",
    "        print(\"Número:\", numero)\n",
    "        print(\"Cor:\", cor)\n",
    "        print(\"Data:\", data)\n",
    "\n",
    "        # Aguarde 5 segundos antes de procurar novamente\n",
    "        await asyncio.sleep(5)\n",
    "\n",
    "    await browser.close()\n",
    "\n",
    "async def main():\n",
    "    async with async_playwright() as p:\n",
    "        await run(p)\n",
    "\n",
    "asyncio.run(main())\n"
   ]
  }
 ],
 "metadata": {
  "kernelspec": {
   "display_name": "Python 3",
   "language": "python",
   "name": "python3"
  },
  "language_info": {
   "codemirror_mode": {
    "name": "ipython",
    "version": 3
   },
   "file_extension": ".py",
   "mimetype": "text/x-python",
   "name": "python",
   "nbconvert_exporter": "python",
   "pygments_lexer": "ipython3",
   "version": "3.11.4"
  },
  "orig_nbformat": 4
 },
 "nbformat": 4,
 "nbformat_minor": 2
}

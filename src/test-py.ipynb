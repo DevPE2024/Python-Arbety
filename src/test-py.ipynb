{
 "cells": [
  {
   "attachments": {},
   "cell_type": "markdown",
   "metadata": {},
   "source": [
    "# Extraindo informações do site Arbety para pegar o número da sorte "
   ]
  },
  {
   "cell_type": "code",
   "execution_count": 12,
   "metadata": {},
   "outputs": [
    {
     "name": "stdout",
     "output_type": "stream",
     "text": [
      "Cor: green, Data: 10/07/2023, Hora: 11:16:21, Número: 14\n",
      "Cor: green, Data: 10/07/2023, Hora: 11:16:47, Número: 14\n",
      "Cor: red, Data: 10/07/2023, Hora: 11:17:14, Número: 6\n",
      "Cor: green, Data: 10/07/2023, Hora: 11:17:41, Número: 10\n",
      "Cor: red, Data: 10/07/2023, Hora: 11:18:07, Número: 3\n",
      "Cor: green, Data: 10/07/2023, Hora: 11:18:34, Número: 8\n",
      "Cor: red, Data: 10/07/2023, Hora: 11:19:00, Número: 3\n",
      "Cor: green, Data: 10/07/2023, Hora: 11:19:27, Número: 12\n",
      "Cor: red, Data: 10/07/2023, Hora: 11:19:53, Número: 5\n",
      "Cor: green, Data: 10/07/2023, Hora: 11:20:20, Número: 10\n",
      "Cor: green, Data: 10/07/2023, Hora: 11:20:46, Número: 10\n",
      "Cor: green, Data: 10/07/2023, Hora: 11:21:13, Número: 12\n",
      "Cor: red, Data: 10/07/2023, Hora: 11:21:40, Número: 3\n",
      "Cor: red, Data: 10/07/2023, Hora: 11:22:06, Número: 6\n",
      "Cor: green, Data: 10/07/2023, Hora: 11:22:33, Número: 12\n",
      "Cor: green, Data: 10/07/2023, Hora: 11:22:59, Número: 13\n",
      "Cor: green, Data: 10/07/2023, Hora: 11:23:26, Número: 12\n",
      "Cor: green, Data: 10/07/2023, Hora: 11:23:52, Número: 10\n",
      "Cor: green, Data: 10/07/2023, Hora: 11:24:19, Número: 9\n",
      "Cor: red, Data: 10/07/2023, Hora: 11:24:46, Número: 5\n"
     ]
    }
   ],
   "source": [
    "from selenium import webdriver\n",
    "from selenium.webdriver.chrome.service import Service\n",
    "from selenium.webdriver.chrome.options import Options\n",
    "from selenium.webdriver.common.by import By\n",
    "from webdriver_manager.chrome import ChromeDriverManager\n",
    "from bs4 import BeautifulSoup\n",
    "\n",
    "# Configura as opções do Chrome\n",
    "options = Options()\n",
    "options.add_argument(\"--headless\")  # Executa o Chrome em modo headless\n",
    "\n",
    "# Configura o serviço do ChromeDriver\n",
    "service = Service(ChromeDriverManager().install())\n",
    "\n",
    "# Cria uma nova instância do Google Chrome\n",
    "driver = webdriver.Chrome(service=service, options=options)\n",
    "\n",
    "driver.implicitly_wait(10)  # espera até 10 segundos antes de lançar uma NoSuchElementException\n",
    "\n",
    "driver.get(\"https://www.arbety.com/games/double\")  # substitua pelo URL correto\n",
    "\n",
    "elemento_pai = driver.find_element(By.XPATH, \"//div[contains(@class, 'items')]\")\n",
    "\n",
    "# Encontrar todos os elementos filhos DIRETOS do elemento pai\n",
    "elementos_filhos = elemento_pai.find_elements(By.XPATH, \"./*\")\n",
    "\n",
    "for elemento in elementos_filhos:\n",
    "    soup = BeautifulSoup(elemento.get_attribute('innerHTML'), 'html.parser')\n",
    "    div = soup.find('div')\n",
    "    if div:\n",
    "        cor = div.get('class')[1] if len(div.get('class')) > 1 else None\n",
    "        aria_label = div.get('aria-label')\n",
    "        numero = div.text\n",
    "        if aria_label:\n",
    "            data, hora = aria_label.split(\", \")\n",
    "        else:\n",
    "            data, hora = None, None\n",
    "        print(f\"Cor: {cor}, Data: {data}, Hora: {hora}, Número: {numero}\")\n",
    "\n",
    "driver.quit()\n"
   ]
  },
  {
   "cell_type": "code",
   "execution_count": 18,
   "metadata": {},
   "outputs": [
    {
     "name": "stdout",
     "output_type": "stream",
     "text": [
      "<div class=\"item-shadow\"></div><div style=\"opacity: 0;\"><div class=\"item green\" aria-label=\"10/07/2023 11:33:10\">14</div></div><div style=\"opacity: 0;\"><div class=\"item red\" aria-label=\"10/07/2023 11:33:37\">6</div></div><div style=\"opacity: 0;\"><div class=\"item red\" aria-label=\"10/07/2023 11:34:03\">6</div></div><div style=\"opacity: 0;\"><div class=\"item red\" aria-label=\"10/07/2023 11:34:30\">4</div></div><div style=\"opacity: 0;\"><div class=\"item red\" aria-label=\"10/07/2023 11:34:57\">7</div></div><div style=\"opacity: 0;\"><div class=\"item green\" aria-label=\"10/07/2023 11:35:23\">8</div></div><div style=\"opacity: 0;\"><div class=\"item green\" aria-label=\"10/07/2023 11:35:50\">10</div></div><div style=\"opacity: 0;\"><div class=\"item green\" aria-label=\"10/07/2023 11:36:16\">11</div></div><div style=\"opacity: 0;\"><div class=\"item red\" aria-label=\"10/07/2023 11:36:43\">1</div></div><div style=\"opacity: 0;\"><div class=\"item red\" aria-label=\"10/07/2023 11:37:09\">5</div></div><div style=\"opacity: 0;\"><div class=\"item red\" aria-label=\"10/07/2023 11:37:36\">1</div></div><div style=\"opacity: 0;\"><div class=\"item red\" aria-label=\"10/07/2023 11:38:03\">6</div></div><div style=\"opacity: 0;\"><div class=\"item green\" aria-label=\"10/07/2023 11:38:29\">8</div></div><div style=\"opacity: 0;\"><div class=\"item red\" aria-label=\"10/07/2023 11:38:56\">5</div></div><div style=\"opacity: 0;\"><div class=\"item red\" aria-label=\"10/07/2023 11:39:22\">1</div></div><div style=\"opacity: 0;\"><div class=\"item green\" aria-label=\"10/07/2023 11:39:49\">14</div></div><div style=\"opacity: 0;\"><div class=\"item red\" aria-label=\"10/07/2023 11:40:16\">1</div></div><div style=\"opacity: 0;\"><div class=\"item red\" aria-label=\"10/07/2023 11:40:42\">2</div></div><div style=\"opacity: 0;\"><div class=\"item green\" aria-label=\"10/07/2023 11:41:09\">13</div></div><div style=\"opacity: 0;\"><div class=\"item red\" aria-label=\"10/07/2023 11:41:35\">7</div></div>\n"
     ]
    }
   ],
   "source": [
    "import asyncio\n",
    "import nest_asyncio\n",
    "nest_asyncio.apply()\n",
    "from pyppeteer import launch\n",
    "\n",
    "async def main():\n",
    "    browser = await launch()\n",
    "    page = await browser.newPage()\n",
    "    await page.goto('https://www.arbety.com/games/double')\n",
    "\n",
    "    # Espere até que o elemento com a classe 'items' seja carregado\n",
    "    await page.waitForSelector('.items')\n",
    "\n",
    "    # Capture o conteúdo do elemento\n",
    "    elemento = await page.querySelector('.items')\n",
    "    conteudo = await page.evaluate('(elemento) => elemento.innerHTML', elemento)\n",
    "\n",
    "    print(conteudo)\n",
    "\n",
    "    await browser.close()\n",
    "\n",
    "if __name__ == '__main__':\n",
    "    # O Pyppeteer é uma biblioteca assíncrona, o que significa que precisamos de um loop de eventos para executar a função principal\n",
    "    asyncio.run(main())\n"
   ]
  }
 ],
 "metadata": {
  "kernelspec": {
   "display_name": "Python 3",
   "language": "python",
   "name": "python3"
  },
  "language_info": {
   "codemirror_mode": {
    "name": "ipython",
    "version": 3
   },
   "file_extension": ".py",
   "mimetype": "text/x-python",
   "name": "python",
   "nbconvert_exporter": "python",
   "pygments_lexer": "ipython3",
   "version": "3.9.0rc2"
  },
  "orig_nbformat": 4
 },
 "nbformat": 4,
 "nbformat_minor": 2
}

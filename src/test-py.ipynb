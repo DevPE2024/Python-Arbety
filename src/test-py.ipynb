{
 "cells": [
  {
   "attachments": {},
   "cell_type": "markdown",
   "metadata": {},
   "source": [
    "# Extraindo informações do site Arbety para pegar o número da sorte "
   ]
  },
  {
   "cell_type": "code",
   "execution_count": null,
   "metadata": {},
   "outputs": [],
   "source": [
    "from selenium import webdriver\n",
    "from selenium.webdriver.chrome.service import Service\n",
    "from selenium.webdriver.chrome.options import Options\n",
    "from selenium.webdriver.common.by import By\n",
    "from webdriver_manager.chrome import ChromeDriverManager\n",
    "\n",
    "# Configura as opções do Chrome\n",
    "options = Options()\n",
    "options.add_argument(\"--headless\")  # Executa o Chrome em modo headless\n",
    "\n",
    "# Configura o serviço do ChromeDriver\n",
    "service = Service(ChromeDriverManager().install())\n",
    "\n",
    "# Cria uma nova instância do Google Chrome\n",
    "driver = webdriver.Chrome(service=service, options=options)\n",
    "\n",
    "driver.implicitly_wait(10)  # espera até 10 segundos antes de lançar uma NoSuchElementException\n",
    "\n",
    "driver.get(\"https://www.arbety.com/games/double\")  # substitua pelo URL correto\n",
    "\n",
    "elemento_pai = driver.find_element(By.XPATH, \"//div[contains(@class, 'items')]\")\n",
    "\n",
    "# Encontrar todos os elementos filhos DIRETOS do elemento pai\n",
    "elementos_filhos = elemento_pai.find_elements(By.XPATH, \"./*\")\n",
    "\n",
    "for elemento in elementos_filhos:\n",
    "    print(elemento.tag_name)\n",
    "\n",
    "driver.quit()\n"
   ]
  }
 ],
 "metadata": {
  "kernelspec": {
   "display_name": "Python 3",
   "language": "python",
   "name": "python3"
  },
  "language_info": {
   "codemirror_mode": {
    "name": "ipython",
    "version": 3
   },
   "file_extension": ".py",
   "mimetype": "text/x-python",
   "name": "python",
   "nbconvert_exporter": "python",
   "pygments_lexer": "ipython3",
   "version": "3.11.4"
  },
  "orig_nbformat": 4
 },
 "nbformat": 4,
 "nbformat_minor": 2
}
